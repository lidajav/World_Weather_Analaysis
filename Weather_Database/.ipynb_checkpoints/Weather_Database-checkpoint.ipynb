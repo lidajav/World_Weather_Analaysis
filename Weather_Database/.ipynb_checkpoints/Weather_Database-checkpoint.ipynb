{
 "cells": [
  {
   "cell_type": "code",
   "execution_count": 22,
   "metadata": {},
   "outputs": [],
   "source": [
    "# Import the dependencies.\n",
    "import pandas as pd\n",
    "import matplotlib.pyplot as plt\n",
    "import numpy as np\n",
    "from citipy import citipy"
   ]
  },
  {
   "cell_type": "code",
   "execution_count": 23,
   "metadata": {},
   "outputs": [],
   "source": [
    "# Import the requests library.\n",
    "import requests\n",
    "# Import the API key.\n",
    "from config import weather_api_key\n",
    "# Import the datetime module from the datetime library.\n",
    "from datetime import datetime\n"
   ]
  },
  {
   "cell_type": "code",
   "execution_count": 24,
   "metadata": {},
   "outputs": [],
   "source": [
    "# Create a set of random latitude and longitude combinations.\n",
    "lats = np.random.uniform(low=-90.000, high=90.000, size=20)\n",
    "lngs = np.random.uniform(low=-180.000, high=180.000, size=20)\n",
    "lat_lngs = zip(lats, lngs)\n",
    "coordinates = list(lat_lngs) "
   ]
  },
  {
   "cell_type": "code",
   "execution_count": 25,
   "metadata": {},
   "outputs": [
    {
     "data": {
      "text/plain": [
       "19"
      ]
     },
     "execution_count": 25,
     "metadata": {},
     "output_type": "execute_result"
    }
   ],
   "source": [
    "# Create a list for holding the cities.\n",
    "cities = []\n",
    "# Identify the nearest city for each latitude and longitude combination.\n",
    "for coordinate in coordinates:\n",
    "    city = citipy.nearest_city(coordinate[0], coordinate[1]).city_name\n",
    "    #print(city.title())\n",
    "    # If the city is unique, then we will add it to the cities list.\n",
    "    if city not in cities:\n",
    "        cities.append(city)\n",
    "        #print(city)\n",
    "# Print the city count to confirm sufficient count.\n",
    "len(cities)"
   ]
  },
  {
   "cell_type": "code",
   "execution_count": 26,
   "metadata": {},
   "outputs": [],
   "source": [
    "# Starting URL for Weather Map API Call.\n",
    "\n",
    "url = \"http://api.openweathermap.org/data/2.5/weather?units=Imperial&APPID=\" + weather_api_key\n"
   ]
  },
  {
   "cell_type": "code",
   "execution_count": 37,
   "metadata": {},
   "outputs": [
    {
     "name": "stdout",
     "output_type": "stream",
     "text": [
      "Processing Record 1 of Set 1 | rikitea\n",
      "Processing Record 2 of Set 1 | mar del plata\n",
      "Processing Record 3 of Set 1 | masuguru\n",
      "Processing Record 4 of Set 1 | ushuaia\n",
      "Processing Record 5 of Set 1 | gorontalo\n",
      "Processing Record 6 of Set 1 | newtownards\n",
      "Processing Record 7 of Set 1 | sambava\n",
      "Processing Record 8 of Set 1 | chokurdakh\n",
      "Processing Record 9 of Set 1 | tumannyy\n",
      "City not found. Skipping...\n",
      "Processing Record 10 of Set 1 | gorno-chuyskiy\n",
      "City not found. Skipping...\n",
      "Processing Record 11 of Set 1 | puerto ayora\n",
      "Processing Record 12 of Set 1 | carballo\n",
      "Processing Record 13 of Set 1 | benghazi\n",
      "Processing Record 14 of Set 1 | perth\n",
      "Processing Record 15 of Set 1 | florianopolis\n",
      "Processing Record 16 of Set 1 | kulhudhuffushi\n",
      "Processing Record 17 of Set 1 | busselton\n",
      "Processing Record 18 of Set 1 | hobart\n",
      "Processing Record 19 of Set 1 | endicott\n",
      "-----------------------------\n",
      "Data Retrieval Complete      \n",
      "-----------------------------\n"
     ]
    }
   ],
   "source": [
    "# Loop through all the cities in our list.\n",
    "record_count = 1\n",
    "set_count = 1\n",
    "city_data = []\n",
    "for i, city in enumerate(cities):\n",
    "\n",
    "    # Group cities in sets of 50 for logging purposes.\n",
    "    if (i % 50 == 0 and i >= 50):\n",
    "        set_count += 1\n",
    "        record_count = 1\n",
    "    # Create endpoint URL with each city.\n",
    "    city_url = url + \"&q=\" + city.replace(\" \",\"+\")\n",
    "#     print(city_url)\n",
    "#     print(\"---------------\")\n",
    "    # Log the URL, record, and set numbers and the city.\n",
    "    print(f\"Processing Record {record_count} of Set {set_count} | {city}\")\n",
    "    # Add 1 to the record count.\n",
    "    record_count += 1\n",
    "    # Run an API request for each of the cities.\n",
    "    try:\n",
    "        # Parse the JSON and retrieve data.\n",
    "        city_weather = requests.get(city_url).json()\n",
    "        #print(city_weather)\n",
    "        # Parse out the needed data.\n",
    "        city_lat = city_weather[\"coord\"][\"lat\"]\n",
    "        city_lng = city_weather[\"coord\"][\"lon\"]\n",
    "        city_max_temp = city_weather[\"main\"][\"temp_max\"]\n",
    "        city_humidity = city_weather[\"main\"][\"humidity\"]\n",
    "        city_clouds = city_weather[\"clouds\"][\"all\"]\n",
    "        city_wind = city_weather[\"wind\"][\"speed\"]\n",
    "        city_disc = city_weather[\"weather\"][0][\"description\"] \n",
    "        city_country = city_weather[\"sys\"][\"country\"] \n",
    "        # Convert the date to ISO standard.\n",
    "        city_date = datetime.utcfromtimestamp(city_weather[\"dt\"]).strftime('%Y-%m-%d %H:%M:%S')\n",
    "        # Append the city information into city_data list.\n",
    "        city_data.append({\"City\": city.title(),\n",
    "                          \"Country\": city_country, \n",
    "                          \"Lat\": city_lat,\n",
    "                          \"Lng\": city_lng,\n",
    "                          \"Max Temp\": city_max_temp,\n",
    "                          \"Humidity\": city_humidity,\n",
    "                          \"Cloudiness\": city_clouds,\n",
    "                          \"Wind Speed\": city_wind,\n",
    "                          \" Current Description\" : city_disc})\n",
    "                          #\"Date\": city_date})\n",
    "        \n",
    "         \n",
    "# If an error is experienced, skip the city.\n",
    "    except:\n",
    "        print(\"City not found. Skipping...\")\n",
    "        pass\n",
    "\n",
    "# Indicate that Data Loading is complete.\n",
    "print(\"-----------------------------\")\n",
    "print(\"Data Retrieval Complete      \")\n",
    "print(\"-----------------------------\")\n",
    "\n"
   ]
  },
  {
   "cell_type": "code",
   "execution_count": 38,
   "metadata": {},
   "outputs": [
    {
     "data": {
      "text/html": [
       "<div>\n",
       "<style scoped>\n",
       "    .dataframe tbody tr th:only-of-type {\n",
       "        vertical-align: middle;\n",
       "    }\n",
       "\n",
       "    .dataframe tbody tr th {\n",
       "        vertical-align: top;\n",
       "    }\n",
       "\n",
       "    .dataframe thead th {\n",
       "        text-align: right;\n",
       "    }\n",
       "</style>\n",
       "<table border=\"1\" class=\"dataframe\">\n",
       "  <thead>\n",
       "    <tr style=\"text-align: right;\">\n",
       "      <th></th>\n",
       "      <th>City</th>\n",
       "      <th>Country</th>\n",
       "      <th>Lat</th>\n",
       "      <th>Lng</th>\n",
       "      <th>Max Temp</th>\n",
       "      <th>Humidity</th>\n",
       "      <th>Cloudiness</th>\n",
       "      <th>Wind Speed</th>\n",
       "      <th>Current Description</th>\n",
       "    </tr>\n",
       "  </thead>\n",
       "  <tbody>\n",
       "    <tr>\n",
       "      <th>0</th>\n",
       "      <td>Rikitea</td>\n",
       "      <td>PF</td>\n",
       "      <td>-23.1203</td>\n",
       "      <td>-134.9692</td>\n",
       "      <td>77.29</td>\n",
       "      <td>76</td>\n",
       "      <td>2</td>\n",
       "      <td>18.59</td>\n",
       "      <td>moderate rain</td>\n",
       "    </tr>\n",
       "    <tr>\n",
       "      <th>1</th>\n",
       "      <td>Mar Del Plata</td>\n",
       "      <td>AR</td>\n",
       "      <td>-38.0023</td>\n",
       "      <td>-57.5575</td>\n",
       "      <td>70.00</td>\n",
       "      <td>55</td>\n",
       "      <td>0</td>\n",
       "      <td>4.61</td>\n",
       "      <td>clear sky</td>\n",
       "    </tr>\n",
       "    <tr>\n",
       "      <th>2</th>\n",
       "      <td>Masuguru</td>\n",
       "      <td>TZ</td>\n",
       "      <td>-11.3667</td>\n",
       "      <td>38.4167</td>\n",
       "      <td>72.91</td>\n",
       "      <td>96</td>\n",
       "      <td>100</td>\n",
       "      <td>1.83</td>\n",
       "      <td>overcast clouds</td>\n",
       "    </tr>\n",
       "    <tr>\n",
       "      <th>3</th>\n",
       "      <td>Ushuaia</td>\n",
       "      <td>AR</td>\n",
       "      <td>-54.8000</td>\n",
       "      <td>-68.3000</td>\n",
       "      <td>46.40</td>\n",
       "      <td>76</td>\n",
       "      <td>40</td>\n",
       "      <td>26.46</td>\n",
       "      <td>scattered clouds</td>\n",
       "    </tr>\n",
       "    <tr>\n",
       "      <th>4</th>\n",
       "      <td>Gorontalo</td>\n",
       "      <td>ID</td>\n",
       "      <td>0.5412</td>\n",
       "      <td>123.0595</td>\n",
       "      <td>82.13</td>\n",
       "      <td>81</td>\n",
       "      <td>100</td>\n",
       "      <td>3.15</td>\n",
       "      <td>overcast clouds</td>\n",
       "    </tr>\n",
       "  </tbody>\n",
       "</table>\n",
       "</div>"
      ],
      "text/plain": [
       "            City Country      Lat       Lng  Max Temp  Humidity  Cloudiness  \\\n",
       "0        Rikitea      PF -23.1203 -134.9692     77.29        76           2   \n",
       "1  Mar Del Plata      AR -38.0023  -57.5575     70.00        55           0   \n",
       "2       Masuguru      TZ -11.3667   38.4167     72.91        96         100   \n",
       "3        Ushuaia      AR -54.8000  -68.3000     46.40        76          40   \n",
       "4      Gorontalo      ID   0.5412  123.0595     82.13        81         100   \n",
       "\n",
       "   Wind Speed  Current Description  \n",
       "0       18.59        moderate rain  \n",
       "1        4.61            clear sky  \n",
       "2        1.83      overcast clouds  \n",
       "3       26.46     scattered clouds  \n",
       "4        3.15      overcast clouds  "
      ]
     },
     "execution_count": 38,
     "metadata": {},
     "output_type": "execute_result"
    }
   ],
   "source": [
    "# Convert the array of dictionaries to a Pandas DataFrame.\n",
    "city_data_df = pd.DataFrame(city_data)\n",
    "city_data_df.head(5)\n"
   ]
  },
  {
   "cell_type": "code",
   "execution_count": 41,
   "metadata": {},
   "outputs": [],
   "source": [
    "# Create the output file (CSV).\n",
    "output_data_file = \"WeatherPy_Database.csv\"\n",
    "# Export the City_Data into a CSV.\n",
    "city_data_df.to_csv(output_data_file, index_label=\"City_ID\")"
   ]
  },
  {
   "cell_type": "code",
   "execution_count": null,
   "metadata": {},
   "outputs": [],
   "source": []
  }
 ],
 "metadata": {
  "kernelspec": {
   "display_name": "PythonData",
   "language": "python",
   "name": "pythondata"
  },
  "language_info": {
   "codemirror_mode": {
    "name": "ipython",
    "version": 3
   },
   "file_extension": ".py",
   "mimetype": "text/x-python",
   "name": "python",
   "nbconvert_exporter": "python",
   "pygments_lexer": "ipython3",
   "version": "3.7.9"
  }
 },
 "nbformat": 4,
 "nbformat_minor": 4
}
