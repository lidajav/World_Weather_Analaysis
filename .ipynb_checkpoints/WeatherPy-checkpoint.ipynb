{
 "cells": [
  {
   "cell_type": "code",
   "execution_count": 11,
   "metadata": {},
   "outputs": [],
   "source": [
    "# Import the dependencies.\n",
    "import pandas as pd\n",
    "import matplotlib.pyplot as plt\n",
    "import numpy as np\n",
    "from citipy import citipy"
   ]
  },
  {
   "cell_type": "code",
   "execution_count": 12,
   "metadata": {},
   "outputs": [],
   "source": [
    "# Import the requests library.\n",
    "import requests\n",
    "\n",
    "# Import the API key.\n",
    "from config import weather_api_key"
   ]
  },
  {
   "cell_type": "code",
   "execution_count": 13,
   "metadata": {},
   "outputs": [],
   "source": [
    "# Starting URL for Weather Map API Call.\n",
    "url = \"http://api.openweathermap.org/data/2.5/weather?units=Imperial&APPID=\" + weather_api_key\n"
   ]
  },
  {
   "cell_type": "code",
   "execution_count": 14,
   "metadata": {},
   "outputs": [
    {
     "name": "stdout",
     "output_type": "stream",
     "text": [
      "Beginning Data Retrieval     \n",
      "-----------------------------\n"
     ]
    }
   ],
   "source": [
    "# Create an empty list to hold the weather data.\n",
    "city_data = []\n",
    "# Print the beginning of the logging.\n",
    "print(\"Beginning Data Retrieval     \")\n",
    "print(\"-----------------------------\")\n",
    "\n",
    "# Create counters.\n",
    "record_count = 1\n",
    "set_count = 1"
   ]
  },
  {
   "cell_type": "code",
   "execution_count": 15,
   "metadata": {},
   "outputs": [],
   "source": [
    "# Create a set of random latitude and longitude combinations.\n",
    "lats = np.random.uniform(low=-90.000, high=90.000, size=1500)\n",
    "lngs = np.random.uniform(low=-180.000, high=180.000, size=1500)\n",
    "lat_lngs = zip(lats, lngs)\n",
    "coordinates = list(lat_lngs) # will be a Tuple"
   ]
  },
  {
   "cell_type": "code",
   "execution_count": 16,
   "metadata": {},
   "outputs": [
    {
     "data": {
      "text/plain": [
       "611"
      ]
     },
     "execution_count": 16,
     "metadata": {},
     "output_type": "execute_result"
    }
   ],
   "source": [
    "# Create a list for holding the cities.\n",
    "cities = []\n",
    "# Identify the nearest city for each latitude and longitude combination.\n",
    "for coordinate in coordinates:\n",
    "    city = citipy.nearest_city(coordinate[0], coordinate[1]).city_name\n",
    "    #print(city.title())\n",
    "    # If the city is unique, then we will add it to the cities list.\n",
    "    if city not in cities:\n",
    "        cities.append(city)\n",
    "        #print(city)\n",
    "# Print the city count to confirm sufficient count.\n",
    "len(cities)\n"
   ]
  },
  {
   "cell_type": "code",
   "execution_count": null,
   "metadata": {},
   "outputs": [
    {
     "name": "stdout",
     "output_type": "stream",
     "text": [
      "http://api.openweathermap.org/data/2.5/weather?units=Imperial&APPID=63976b86b922cf348b2823ba1523b1d0&q=bandarbeyla\n",
      "Processing Record 1 of Set 1 | bandarbeyla\n",
      "City not found. Skipping...\n",
      "http://api.openweathermap.org/data/2.5/weather?units=Imperial&APPID=63976b86b922cf348b2823ba1523b1d0&q=ouallam\n",
      "Processing Record 2 of Set 1 | ouallam\n",
      "City not found. Skipping...\n",
      "http://api.openweathermap.org/data/2.5/weather?units=Imperial&APPID=63976b86b922cf348b2823ba1523b1d0&q=alekseyevsk\n",
      "Processing Record 3 of Set 1 | alekseyevsk\n",
      "City not found. Skipping...\n",
      "http://api.openweathermap.org/data/2.5/weather?units=Imperial&APPID=63976b86b922cf348b2823ba1523b1d0&q=tsihombe\n",
      "Processing Record 4 of Set 1 | tsihombe\n",
      "City not found. Skipping...\n",
      "http://api.openweathermap.org/data/2.5/weather?units=Imperial&APPID=63976b86b922cf348b2823ba1523b1d0&q=butaritari\n",
      "Processing Record 5 of Set 1 | butaritari\n",
      "City not found. Skipping...\n",
      "http://api.openweathermap.org/data/2.5/weather?units=Imperial&APPID=63976b86b922cf348b2823ba1523b1d0&q=punta+arenas\n",
      "Processing Record 6 of Set 1 | punta arenas\n",
      "City not found. Skipping...\n",
      "http://api.openweathermap.org/data/2.5/weather?units=Imperial&APPID=63976b86b922cf348b2823ba1523b1d0&q=kadnikov\n",
      "Processing Record 7 of Set 1 | kadnikov\n",
      "City not found. Skipping...\n",
      "http://api.openweathermap.org/data/2.5/weather?units=Imperial&APPID=63976b86b922cf348b2823ba1523b1d0&q=tuatapere\n",
      "Processing Record 8 of Set 1 | tuatapere\n",
      "City not found. Skipping...\n",
      "http://api.openweathermap.org/data/2.5/weather?units=Imperial&APPID=63976b86b922cf348b2823ba1523b1d0&q=ust-kamchatsk\n",
      "Processing Record 9 of Set 1 | ust-kamchatsk\n",
      "City not found. Skipping...\n",
      "http://api.openweathermap.org/data/2.5/weather?units=Imperial&APPID=63976b86b922cf348b2823ba1523b1d0&q=maubin\n",
      "Processing Record 10 of Set 1 | maubin\n",
      "City not found. Skipping...\n",
      "http://api.openweathermap.org/data/2.5/weather?units=Imperial&APPID=63976b86b922cf348b2823ba1523b1d0&q=taolanaro\n",
      "Processing Record 11 of Set 1 | taolanaro\n",
      "City not found. Skipping...\n",
      "http://api.openweathermap.org/data/2.5/weather?units=Imperial&APPID=63976b86b922cf348b2823ba1523b1d0&q=albany\n",
      "Processing Record 12 of Set 1 | albany\n",
      "City not found. Skipping...\n",
      "http://api.openweathermap.org/data/2.5/weather?units=Imperial&APPID=63976b86b922cf348b2823ba1523b1d0&q=coahuayana\n",
      "Processing Record 13 of Set 1 | coahuayana\n",
      "City not found. Skipping...\n",
      "http://api.openweathermap.org/data/2.5/weather?units=Imperial&APPID=63976b86b922cf348b2823ba1523b1d0&q=tiarei\n",
      "Processing Record 14 of Set 1 | tiarei\n",
      "City not found. Skipping...\n",
      "http://api.openweathermap.org/data/2.5/weather?units=Imperial&APPID=63976b86b922cf348b2823ba1523b1d0&q=mataura\n",
      "Processing Record 15 of Set 1 | mataura\n",
      "City not found. Skipping...\n",
      "http://api.openweathermap.org/data/2.5/weather?units=Imperial&APPID=63976b86b922cf348b2823ba1523b1d0&q=kavieng\n",
      "Processing Record 16 of Set 1 | kavieng\n",
      "City not found. Skipping...\n",
      "http://api.openweathermap.org/data/2.5/weather?units=Imperial&APPID=63976b86b922cf348b2823ba1523b1d0&q=new+norfolk\n",
      "Processing Record 17 of Set 1 | new norfolk\n",
      "City not found. Skipping...\n",
      "http://api.openweathermap.org/data/2.5/weather?units=Imperial&APPID=63976b86b922cf348b2823ba1523b1d0&q=luderitz\n",
      "Processing Record 18 of Set 1 | luderitz\n",
      "City not found. Skipping...\n",
      "http://api.openweathermap.org/data/2.5/weather?units=Imperial&APPID=63976b86b922cf348b2823ba1523b1d0&q=puerto+escondido\n",
      "Processing Record 19 of Set 1 | puerto escondido\n",
      "City not found. Skipping...\n",
      "http://api.openweathermap.org/data/2.5/weather?units=Imperial&APPID=63976b86b922cf348b2823ba1523b1d0&q=puerto+cabello\n",
      "Processing Record 20 of Set 1 | puerto cabello\n",
      "City not found. Skipping...\n",
      "http://api.openweathermap.org/data/2.5/weather?units=Imperial&APPID=63976b86b922cf348b2823ba1523b1d0&q=haines+junction\n",
      "Processing Record 21 of Set 1 | haines junction\n",
      "City not found. Skipping...\n",
      "http://api.openweathermap.org/data/2.5/weather?units=Imperial&APPID=63976b86b922cf348b2823ba1523b1d0&q=jamestown\n",
      "Processing Record 22 of Set 1 | jamestown\n",
      "City not found. Skipping...\n",
      "http://api.openweathermap.org/data/2.5/weather?units=Imperial&APPID=63976b86b922cf348b2823ba1523b1d0&q=khatanga\n",
      "Processing Record 23 of Set 1 | khatanga\n",
      "City not found. Skipping...\n",
      "http://api.openweathermap.org/data/2.5/weather?units=Imperial&APPID=63976b86b922cf348b2823ba1523b1d0&q=mount+isa\n",
      "Processing Record 24 of Set 1 | mount isa\n",
      "City not found. Skipping...\n",
      "http://api.openweathermap.org/data/2.5/weather?units=Imperial&APPID=63976b86b922cf348b2823ba1523b1d0&q=kloulklubed\n",
      "Processing Record 25 of Set 1 | kloulklubed\n",
      "City not found. Skipping...\n",
      "http://api.openweathermap.org/data/2.5/weather?units=Imperial&APPID=63976b86b922cf348b2823ba1523b1d0&q=hilo\n",
      "Processing Record 26 of Set 1 | hilo\n",
      "City not found. Skipping...\n",
      "http://api.openweathermap.org/data/2.5/weather?units=Imperial&APPID=63976b86b922cf348b2823ba1523b1d0&q=dukat\n",
      "Processing Record 27 of Set 1 | dukat\n",
      "City not found. Skipping...\n",
      "http://api.openweathermap.org/data/2.5/weather?units=Imperial&APPID=63976b86b922cf348b2823ba1523b1d0&q=havelock\n",
      "Processing Record 28 of Set 1 | havelock\n",
      "City not found. Skipping...\n",
      "http://api.openweathermap.org/data/2.5/weather?units=Imperial&APPID=63976b86b922cf348b2823ba1523b1d0&q=bambous+virieux\n",
      "Processing Record 29 of Set 1 | bambous virieux\n",
      "City not found. Skipping...\n",
      "http://api.openweathermap.org/data/2.5/weather?units=Imperial&APPID=63976b86b922cf348b2823ba1523b1d0&q=busselton\n",
      "Processing Record 30 of Set 1 | busselton\n",
      "City not found. Skipping...\n",
      "http://api.openweathermap.org/data/2.5/weather?units=Imperial&APPID=63976b86b922cf348b2823ba1523b1d0&q=sur\n",
      "Processing Record 31 of Set 1 | sur\n",
      "City not found. Skipping...\n",
      "http://api.openweathermap.org/data/2.5/weather?units=Imperial&APPID=63976b86b922cf348b2823ba1523b1d0&q=nizhneyansk\n",
      "Processing Record 32 of Set 1 | nizhneyansk\n",
      "City not found. Skipping...\n",
      "http://api.openweathermap.org/data/2.5/weather?units=Imperial&APPID=63976b86b922cf348b2823ba1523b1d0&q=mount+gambier\n",
      "Processing Record 33 of Set 1 | mount gambier\n",
      "City not found. Skipping...\n",
      "http://api.openweathermap.org/data/2.5/weather?units=Imperial&APPID=63976b86b922cf348b2823ba1523b1d0&q=bluff\n",
      "Processing Record 34 of Set 1 | bluff\n",
      "City not found. Skipping...\n",
      "http://api.openweathermap.org/data/2.5/weather?units=Imperial&APPID=63976b86b922cf348b2823ba1523b1d0&q=arraial+do+cabo\n",
      "Processing Record 35 of Set 1 | arraial do cabo\n",
      "City not found. Skipping...\n",
      "http://api.openweathermap.org/data/2.5/weather?units=Imperial&APPID=63976b86b922cf348b2823ba1523b1d0&q=ribeira+grande\n",
      "Processing Record 36 of Set 1 | ribeira grande\n",
      "City not found. Skipping...\n",
      "http://api.openweathermap.org/data/2.5/weather?units=Imperial&APPID=63976b86b922cf348b2823ba1523b1d0&q=meulaboh\n",
      "Processing Record 37 of Set 1 | meulaboh\n",
      "City not found. Skipping...\n",
      "http://api.openweathermap.org/data/2.5/weather?units=Imperial&APPID=63976b86b922cf348b2823ba1523b1d0&q=zaraza\n",
      "Processing Record 38 of Set 1 | zaraza\n",
      "City not found. Skipping...\n",
      "http://api.openweathermap.org/data/2.5/weather?units=Imperial&APPID=63976b86b922cf348b2823ba1523b1d0&q=uyuni\n",
      "Processing Record 39 of Set 1 | uyuni\n",
      "City not found. Skipping...\n",
      "http://api.openweathermap.org/data/2.5/weather?units=Imperial&APPID=63976b86b922cf348b2823ba1523b1d0&q=isangel\n",
      "Processing Record 40 of Set 1 | isangel\n",
      "City not found. Skipping...\n",
      "http://api.openweathermap.org/data/2.5/weather?units=Imperial&APPID=63976b86b922cf348b2823ba1523b1d0&q=nanortalik\n",
      "Processing Record 41 of Set 1 | nanortalik\n",
      "City not found. Skipping...\n",
      "http://api.openweathermap.org/data/2.5/weather?units=Imperial&APPID=63976b86b922cf348b2823ba1523b1d0&q=hermiston\n",
      "Processing Record 42 of Set 1 | hermiston\n",
      "City not found. Skipping...\n",
      "http://api.openweathermap.org/data/2.5/weather?units=Imperial&APPID=63976b86b922cf348b2823ba1523b1d0&q=hunza\n",
      "Processing Record 43 of Set 1 | hunza\n",
      "City not found. Skipping...\n",
      "http://api.openweathermap.org/data/2.5/weather?units=Imperial&APPID=63976b86b922cf348b2823ba1523b1d0&q=hermanus\n",
      "Processing Record 44 of Set 1 | hermanus\n",
      "City not found. Skipping...\n",
      "http://api.openweathermap.org/data/2.5/weather?units=Imperial&APPID=63976b86b922cf348b2823ba1523b1d0&q=mys+shmidta\n",
      "Processing Record 45 of Set 1 | mys shmidta\n",
      "City not found. Skipping...\n",
      "http://api.openweathermap.org/data/2.5/weather?units=Imperial&APPID=63976b86b922cf348b2823ba1523b1d0&q=mar+del+plata\n",
      "Processing Record 46 of Set 1 | mar del plata\n"
     ]
    },
    {
     "name": "stdout",
     "output_type": "stream",
     "text": [
      "City not found. Skipping...\n",
      "http://api.openweathermap.org/data/2.5/weather?units=Imperial&APPID=63976b86b922cf348b2823ba1523b1d0&q=tumannyy\n",
      "Processing Record 47 of Set 1 | tumannyy\n",
      "City not found. Skipping...\n",
      "http://api.openweathermap.org/data/2.5/weather?units=Imperial&APPID=63976b86b922cf348b2823ba1523b1d0&q=itoman\n",
      "Processing Record 48 of Set 1 | itoman\n",
      "City not found. Skipping...\n",
      "http://api.openweathermap.org/data/2.5/weather?units=Imperial&APPID=63976b86b922cf348b2823ba1523b1d0&q=praia\n",
      "Processing Record 49 of Set 1 | praia\n",
      "City not found. Skipping...\n",
      "http://api.openweathermap.org/data/2.5/weather?units=Imperial&APPID=63976b86b922cf348b2823ba1523b1d0&q=ancud\n",
      "Processing Record 50 of Set 1 | ancud\n",
      "City not found. Skipping...\n",
      "http://api.openweathermap.org/data/2.5/weather?units=Imperial&APPID=63976b86b922cf348b2823ba1523b1d0&q=praia+da+vitoria\n",
      "Processing Record 1 of Set 2 | praia da vitoria\n",
      "City not found. Skipping...\n",
      "http://api.openweathermap.org/data/2.5/weather?units=Imperial&APPID=63976b86b922cf348b2823ba1523b1d0&q=san+cristobal\n",
      "Processing Record 2 of Set 2 | san cristobal\n",
      "City not found. Skipping...\n",
      "http://api.openweathermap.org/data/2.5/weather?units=Imperial&APPID=63976b86b922cf348b2823ba1523b1d0&q=sao+joao+da+barra\n",
      "Processing Record 3 of Set 2 | sao joao da barra\n",
      "City not found. Skipping...\n",
      "http://api.openweathermap.org/data/2.5/weather?units=Imperial&APPID=63976b86b922cf348b2823ba1523b1d0&q=ushuaia\n",
      "Processing Record 4 of Set 2 | ushuaia\n",
      "City not found. Skipping...\n",
      "http://api.openweathermap.org/data/2.5/weather?units=Imperial&APPID=63976b86b922cf348b2823ba1523b1d0&q=vaini\n",
      "Processing Record 5 of Set 2 | vaini\n",
      "City not found. Skipping...\n",
      "http://api.openweathermap.org/data/2.5/weather?units=Imperial&APPID=63976b86b922cf348b2823ba1523b1d0&q=atuona\n",
      "Processing Record 6 of Set 2 | atuona\n"
     ]
    }
   ],
   "source": [
    "# Loop through all the cities in our list.\n",
    "for i, city in enumerate(cities):\n",
    "\n",
    "    # Group cities in sets of 50 for logging purposes.\n",
    "    if (i % 50 == 0 and i >= 50):\n",
    "        set_count += 1\n",
    "        record_count = 1\n",
    "    # Create endpoint URL with each city.\n",
    "    city_url = url + \"&q=\" + city.replace(\" \",\"+\")\n",
    "    print(city_url)\n",
    "    # Log the URL, record, and set numbers and the city.\n",
    "    print(f\"Processing Record {record_count} of Set {set_count} | {city}\")\n",
    "    # Add 1 to the record count.\n",
    "    record_count += 1\n",
    "    # Run an API request for each of the cities.\n",
    "    try:\n",
    "        # Parse the JSON and retrieve data.\n",
    "        city_weather = requests.get(city_url).json()\n",
    "        # Parse out the needed data.\n",
    "        city_lat = city_weather[\"coord\"][\"lat\"]\n",
    "        city_lng = city_weather[\"coord\"][\"lon\"]\n",
    "        city_max_temp = city_weather[\"main\"][\"temp_max\"]\n",
    "        city_humidity = city_weather[\"main\"][\"humidity\"]\n",
    "        city_clouds = city_weather[\"clouds\"][\"all\"]\n",
    "        city_wind = city_weather[\"wind\"][\"speed\"]\n",
    "        city_country = city_weather[\"sys\"][\"country\"]\n",
    "        # Convert the date to ISO standard.\n",
    "        city_date = datetime.utcfromtimestamp(city_weather[\"dt\"]).strftime('%Y-%m-%d %H:%M:%S')\n",
    "        # Append the city information into city_data list.\n",
    "        city_data.append({\"City\": city.title(),\n",
    "                          \"Lat\": city_lat,\n",
    "                          \"Lng\": city_lng,\n",
    "                          \"Max Temp\": city_max_temp,\n",
    "                          \"Humidity\": city_humidity,\n",
    "                          \"Cloudiness\": city_clouds,\n",
    "                          \"Wind Speed\": city_wind,\n",
    "                          \"Country\": city_country,\n",
    "                          \"Date\": city_date})\n",
    "\n",
    "# If an error is experienced, skip the city.\n",
    "    except:\n",
    "        print(\"City not found. Skipping...\")\n",
    "        pass\n",
    "\n",
    "# Indicate that Data Loading is complete.\n",
    "print(\"-----------------------------\")\n",
    "print(\"Data Retrieval Complete      \")\n",
    "print(\"-----------------------------\")\n"
   ]
  },
  {
   "cell_type": "code",
   "execution_count": null,
   "metadata": {},
   "outputs": [],
   "source": [
    "# Convert the array of dictionaries to a Pandas DataFrame.\n",
    "city_data_df = pd.DataFrame(city_data)\n",
    "city_data_df.head(10)"
   ]
  },
  {
   "cell_type": "code",
   "execution_count": null,
   "metadata": {},
   "outputs": [],
   "source": [
    "new_column_order = ['City','Country','Date','Lat','Lng','Max Temp','Humidity','Cloudiness','Wind Speed']\n",
    "city_data_df = city_data_df [new_column_order]\n",
    "city_data_df.head(10)"
   ]
  },
  {
   "cell_type": "code",
   "execution_count": null,
   "metadata": {},
   "outputs": [],
   "source": [
    "# Create the output file (CSV).\n",
    "output_data_file = \"weather_data/cities.csv\"\n",
    "# Export the City_Data into a CSV.\n",
    "city_data_df.to_csv(output_data_file, index_label=\"City_ID\")"
   ]
  },
  {
   "cell_type": "code",
   "execution_count": null,
   "metadata": {},
   "outputs": [],
   "source": []
  },
  {
   "cell_type": "code",
   "execution_count": null,
   "metadata": {},
   "outputs": [],
   "source": []
  },
  {
   "cell_type": "code",
   "execution_count": null,
   "metadata": {},
   "outputs": [],
   "source": []
  },
  {
   "cell_type": "code",
   "execution_count": null,
   "metadata": {},
   "outputs": [],
   "source": []
  }
 ],
 "metadata": {
  "kernelspec": {
   "display_name": "PythonData",
   "language": "python",
   "name": "pythondata"
  },
  "language_info": {
   "codemirror_mode": {
    "name": "ipython",
    "version": 3
   },
   "file_extension": ".py",
   "mimetype": "text/x-python",
   "name": "python",
   "nbconvert_exporter": "python",
   "pygments_lexer": "ipython3",
   "version": "3.7.9"
  }
 },
 "nbformat": 4,
 "nbformat_minor": 4
}
